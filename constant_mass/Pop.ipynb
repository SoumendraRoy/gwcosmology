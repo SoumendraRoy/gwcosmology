{
 "cells": [
  {
   "cell_type": "markdown",
   "id": "ddb02fec",
   "metadata": {},
   "source": [
    "Generation of NS-NS mass population with neutron star mass = 1.35 $M_{\\odot}$ at redshift z ~ $\\beta(3, 9)$"
   ]
  },
  {
   "cell_type": "code",
   "execution_count": 1,
   "id": "9ba25097",
   "metadata": {},
   "outputs": [],
   "source": [
    "import numpy as np\n",
    "import matplotlib.pylab as plt\n",
    "from astropy.cosmology import FlatLambdaCDM\n",
    "import h5py"
   ]
  },
  {
   "cell_type": "code",
   "execution_count": 2,
   "id": "0ffd17c7",
   "metadata": {},
   "outputs": [],
   "source": [
    "A_asd=(5.0*np.pi/24.0)**0.5*(np.pi)**(-7./6.)\n",
    "A_M=1500.\n",
    "Mpc=3.0856775814671914e22\n",
    "c1=299792458"
   ]
  },
  {
   "cell_type": "code",
   "execution_count": 3,
   "id": "bc2e2382",
   "metadata": {},
   "outputs": [],
   "source": [
    "NEVENTS=10**3\n",
    "NSAMPLE=10**4"
   ]
  },
  {
   "cell_type": "markdown",
   "id": "aaa1fad3",
   "metadata": {},
   "source": [
    "Masses of Neutron Stars in NS-NS binary are assumed to be $m_1=m_2=1.35M_{\\odot}$ \n",
    "\n",
    "$z \\sim$ MD Star Formation $\\sim \\beta$(3, 9)"
   ]
  },
  {
   "cell_type": "code",
   "execution_count": 4,
   "id": "2311ed33",
   "metadata": {},
   "outputs": [],
   "source": [
    "def draw_true(z_max=10.):\n",
    "    BNSMassDist_mean=1.35\n",
    "    BNSMassDist_var=0.15 \n",
    "    #m1=np.random.normal(BNSMassDist_mean, BNSMassDist_var)*A_M\n",
    "    #m2=np.random.normal(BNSMassDist_mean, BNSMassDist_var)*A_M\n",
    "    m1=m2=BNSMassDist_mean*A_M\n",
    "    Mc=(m1*m2)**(0.6)/(m1+m2)**0.2\n",
    "    \n",
    "    z=np.random.beta(3, 9)*z_max\n",
    "    Mc_z_true=Mc*(1+z)\n",
    "    \n",
    "    deff_true=FlatLambdaCDM(H0=70, Om0=0.3).luminosity_distance(z).value\n",
    "    \n",
    "    return z, Mc_z_true, deff_true"
   ]
  },
  {
   "cell_type": "code",
   "execution_count": 5,
   "id": "0f0ea96f",
   "metadata": {},
   "outputs": [],
   "source": [
    "with h5py.File(\"Pop.h5\", \"w\") as f:\n",
    "    for i in range(NEVENTS):\n",
    "        z_true, Mcz_true, deff_true=draw_true(z_max=10.)\n",
    "        f.create_dataset('z_true'+str(i), data=z_true)\n",
    "        f.create_dataset('Mcz_true'+str(i), data=Mcz_true)\n",
    "        f.create_dataset('deff_true'+str(i), data=deff_true)\n",
    "f.close()"
   ]
  },
  {
   "cell_type": "code",
   "execution_count": null,
   "id": "8bf5a495",
   "metadata": {},
   "outputs": [],
   "source": []
  }
 ],
 "metadata": {
  "kernelspec": {
   "display_name": "popcosmo",
   "language": "python",
   "name": "popcosmo"
  },
  "language_info": {
   "codemirror_mode": {
    "name": "ipython",
    "version": 3
   },
   "file_extension": ".py",
   "mimetype": "text/x-python",
   "name": "python",
   "nbconvert_exporter": "python",
   "pygments_lexer": "ipython3",
   "version": "3.10.4"
  },
  "vscode": {
   "interpreter": {
    "hash": "74fcc00fd2412ba827d541e3ba2d793c647a0ee05b7d2e5129a8aac3d6128351"
   }
  }
 },
 "nbformat": 4,
 "nbformat_minor": 5
}
